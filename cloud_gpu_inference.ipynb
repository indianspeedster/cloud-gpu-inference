{
 "cells": [
  {
   "cell_type": "markdown",
   "metadata": {},
   "source": [
    "# Using cloud servers for GPU-based inference"
   ],
   "id": "26456de7-dc5c-405d-afe0-86b8c7c5f987"
  },
  {
   "cell_type": "markdown",
   "metadata": {},
   "source": [
    "Machine learning models are most often trained in the “cloud”, on powerful centralized servers with specialized resources (like GPU acceleration) for training machine learning models. These servers are also well-resources for inference, i.e. making predictions on new data.\n",
    "\n",
    "In this experiment, we will use a cloud server equipped with GPU acceleration for fast inference in an image classification context."
   ],
   "id": "14aa9cf5-a3d8-4722-8907-91819a55e646"
  },
  {
   "cell_type": "markdown",
   "metadata": {},
   "source": [
    "This notebook assumes you already have a “lease” available for an RTX6000 GPU server on the CHI@UC testbed. Then, it will show you how to:\n",
    "\n",
    "-   launch a server using that lease\n",
    "-   attach an IP address to the server, so that you can access it over SSH\n",
    "-   install some fundamental machine learning libraries on the server\n",
    "-   use a pre-trained image classification model to do inference on the server\n",
    "-   delete the server"
   ],
   "id": "5902ff04-a284-4188-afd5-d29faa600e83"
  },
  {
   "cell_type": "markdown",
   "metadata": {},
   "source": [
    "## Launch a cloud server\n",
    "\n",
    "We will start by preparing our environment in this notebook, then launching a cloud server using our pre-existing lease."
   ],
   "id": "28cd4f81-2dbb-46b6-896c-24a862f888a8"
  },
  {
   "cell_type": "markdown",
   "metadata": {},
   "source": [
    "First, we load some required libraries:"
   ],
   "id": "b8c481ab-b99e-48c0-97f6-61708b26cc00"
  },
  {
   "cell_type": "code",
   "execution_count": null,
   "metadata": {},
   "outputs": [],
   "source": [
    "import chi\n",
    "from chi import server\n",
    "from chi import lease\n",
    "import datetime\n",
    "import os"
   ],
   "id": "025f6ffc-5025-4cef-a823-307577c8692e"
  },
  {
   "cell_type": "markdown",
   "metadata": {},
   "source": [
    "We indicate that we’re going to use the CHI@UC site. We also need to specify the name of the Chameleon “project” that this experiment is part of. The project name will have the format “CHI-XXXXXX”, where the last part is a 6-digit number, and you can find it on your [user dashboard](https://chameleoncloud.org/user/dashboard/).\n",
    "\n",
    "In the cell below, replace the project ID with your *own* project ID, then run the cell."
   ],
   "id": "16a82ed5-a681-4064-b299-ffd6b90508e1"
  },
  {
   "cell_type": "code",
   "execution_count": null,
   "metadata": {},
   "outputs": [],
   "source": [
    "chi.use_site(\"CHI@UC\")\n",
    "chi.set(\"project_name\", \"CHI-XXXXXX\")"
   ],
   "id": "d481bf1d-91f7-42d2-84d5-a282d6c27710"
  },
  {
   "cell_type": "markdown",
   "metadata": {},
   "source": [
    "Next, we’ll specify the lease ID. This notebook assumes you already have a “lease” for an RTX6000 GPU server on CHI@UC. To get the ID of this lease,\n",
    "\n",
    "-   Vist the CHI@UC [“reservations” page](chi.uc.chameleoncloud.org/project/leases/).\n",
    "-   Click on the lease name.\n",
    "-   On the following page, look for the value next to the word “Id” in the “Lease” section.\n",
    "\n",
    "Fill in the lease ID inside the quotation marks in the following cell, then run the cell."
   ],
   "id": "465c2dda-67e3-451e-a6cc-33b740c91373"
  },
  {
   "cell_type": "code",
   "execution_count": null,
   "metadata": {},
   "outputs": [],
   "source": [
    "lease_id =\"xxxxxxxx-xxxx-xxxx-xxxx-xxxxxxxxxxxx\""
   ],
   "id": "706faea5-b068-47bf-b048-72b01ad9208e"
  },
  {
   "cell_type": "markdown",
   "metadata": {},
   "source": [
    "Now, we are ready to launch a server!"
   ],
   "id": "3c2f5ef8-c385-42a5-8692-f548a7fc7e30"
  },
  {
   "cell_type": "markdown",
   "metadata": {},
   "source": [
    "First, we’ll specify the name for our server - we’ll include our username and the experiment name in the server name, so that it will be easy to identify our server in the CHI@UC web interface."
   ],
   "id": "e4ecf130-c387-443d-9865-b3c76cb09035"
  },
  {
   "cell_type": "code",
   "execution_count": null,
   "metadata": {},
   "outputs": [],
   "source": [
    "username = os.environ.get(\"USER\")\n",
    "expname = \"cloud-gpu\"\n",
    "# set a name for the server\n",
    "server_name = f\"{username}-{expname}\".replace(\"_\",\"-\")"
   ],
   "id": "da688dc9-e175-48f7-9d88-9008b2881eba"
  },
  {
   "cell_type": "markdown",
   "metadata": {},
   "source": [
    "We will specify the disk image that we want our server to use."
   ],
   "id": "5a4da8f9-413e-43b6-9cc4-7d27d5503145"
  },
  {
   "cell_type": "code",
   "execution_count": null,
   "metadata": {},
   "outputs": [],
   "source": [
    "chi.set(\"image\", \"CC-Ubuntu20.04\")"
   ],
   "id": "dcdc6163-1ccf-43c9-b27a-7fabc2961316"
  },
  {
   "cell_type": "markdown",
   "metadata": {},
   "source": [
    "Then, we can create the server!"
   ],
   "id": "2c58224c-1c90-42d9-a81f-a02b742a146c"
  },
  {
   "cell_type": "code",
   "execution_count": null,
   "metadata": {},
   "outputs": [],
   "source": [
    "server.create_server(\n",
    "    server_name, \n",
    "    reservation_id=lease.get_node_reservation(lease_id),\n",
    "    image_name=chi.get(\"image\")\n",
    ")\n",
    "server_id = server.get_server_id(server_name)"
   ],
   "id": "6b19a459-fb5d-4e31-bc76-399884f269a1"
  },
  {
   "cell_type": "markdown",
   "metadata": {},
   "source": [
    "The next cell waits for the server to be active."
   ],
   "id": "3ef53a81-5a22-43ae-8811-80f59736af4b"
  },
  {
   "cell_type": "code",
   "execution_count": null,
   "metadata": {},
   "outputs": [],
   "source": [
    "# wait until server is ready to use\n",
    "server.wait_for_active(server_id)"
   ],
   "id": "5b24c3c9-07da-40ea-9604-47ac1595994a"
  },
  {
   "cell_type": "markdown",
   "metadata": {},
   "source": [
    "Once the server is created, you should be able to see it and monitor its status on the [CHI@UC web interface](https://chi.uc.chameleoncloud.org/project/instances/). (If there was any problem while starting the server, you can also delete the server instance from that interface, in order to be able to try again.)"
   ],
   "id": "72b640d2-830d-4bb3-9be8-234f3ec0c90f"
  },
  {
   "cell_type": "markdown",
   "metadata": {},
   "source": [
    "## Attach an address and access your server over SSH"
   ],
   "id": "483e7b9b-faf1-483a-900f-fbfd1124922a"
  },
  {
   "cell_type": "markdown",
   "metadata": {},
   "source": [
    "Next, we will attach an address to our server, then use SSH to access its terminal.\n",
    "\n",
    "First, we’ll attach an address:"
   ],
   "id": "5fc76b7d-a048-4381-81b2-176544a91420"
  },
  {
   "cell_type": "code",
   "execution_count": null,
   "metadata": {},
   "outputs": [],
   "source": [
    "public_ip = server.associate_floating_ip(server_id)\n",
    "server.wait_for_tcp(public_ip, port=22)"
   ],
   "id": "2b9b66a3-32f9-413f-a2ad-5d37e35a39a4"
  },
  {
   "cell_type": "markdown",
   "metadata": {},
   "source": [
    "Now we can open a terminal in the Jupyter interface to access the server over SSH, using the SSH command that is printed by the following cell:"
   ],
   "id": "5837017e-f151-46bb-af92-4ab85f04a1b8"
  },
  {
   "cell_type": "code",
   "execution_count": null,
   "metadata": {},
   "outputs": [],
   "source": [
    "print(\"ssh cc@%s\" % public_ip)"
   ],
   "id": "9c042cac-368f-4104-96f9-83055281990e"
  },
  {
   "cell_type": "markdown",
   "metadata": {},
   "source": [
    "## Install machine learning libraries on your server"
   ],
   "id": "af9aea8a-5d85-48a2-b8f2-33b56edde59b"
  },
  {
   "cell_type": "code",
   "execution_count": null,
   "metadata": {},
   "outputs": [],
   "source": [
    "from chi import ssh\n",
    "\n",
    "node = ssh.Remote(public_ip)"
   ],
   "id": "05af54d9-d649-46a1-92f6-0f53330c4e95"
  },
  {
   "cell_type": "code",
   "execution_count": null,
   "metadata": {},
   "outputs": [],
   "source": [
    "node.run('sudo apt update')\n",
    "node.run('sudo apt -y install python3-pip python3-dev')\n",
    "node.run('sudo pip3 install --upgrade pip')"
   ],
   "id": "404d3b73-0ec5-4fe6-b977-52af1b2d133c"
  },
  {
   "cell_type": "code",
   "execution_count": null,
   "metadata": {},
   "outputs": [],
   "source": [
    "node.run('wget https://developer.download.nvidia.com/compute/cuda/repos/ubuntu2004/x86_64/cuda-keyring_1.0-1_all.deb')\n",
    "node.run('sudo dpkg -i cuda-keyring_1.0-1_all.deb')\n",
    "node.run('sudo apt update')\n",
    "node.run('sudo apt -y install linux-headers-$(uname -r)')\n",
    "node.run('sudo apt-mark hold cuda-toolkit-12-config-common nvidia-driver-535') # don't let it install this cuda\n",
    "node.run('sudo apt -y install nvidia-driver-520') # this driver likes CUDA 11.8"
   ],
   "id": "d1c81062-12ef-4333-ae5a-550034c0c0a0"
  },
  {
   "cell_type": "code",
   "execution_count": null,
   "metadata": {},
   "outputs": [],
   "source": [
    "try:\n",
    "    node.run('sudo reboot') # reboot and wait for it to come up\n",
    "except:\n",
    "    pass\n",
    "server.wait_for_tcp(public_ip, port=22)\n",
    "node = ssh.Remote(public_ip) "
   ],
   "id": "0a85893f-ec42-4511-9024-5dc560b939bc"
  },
  {
   "cell_type": "code",
   "execution_count": null,
   "metadata": {},
   "outputs": [],
   "source": [
    "node.run('sudo apt -y install cuda-11-8 cuda-runtime-11-8 cuda-drivers=520.61.05-1')\n",
    "node.run('sudo apt -y install nvidia-gds-11-8') # install instructions say to do this separately!\n",
    "node.run('sudo apt -y install libcudnn8=8.9.3.28-1+cuda11.8 nvidia-cuda-toolkit') # make sure the get cuda-11-8 version"
   ],
   "id": "45265ef3-69bc-49c3-ad75-9250634311fb"
  },
  {
   "cell_type": "code",
   "execution_count": null,
   "metadata": {},
   "outputs": [],
   "source": [
    "node.run(\"echo 'PATH=\\\"/usr/local/cuda-11.8/bin:/usr/local/sbin:/usr/local/bin:/usr/sbin:/usr/bin:/sbin:/bin:/snap/bin\\\"' | sudo tee /etc/environment\")"
   ],
   "id": "b3d251bf-23c6-4bf5-9ea8-a53f25593287"
  },
  {
   "cell_type": "code",
   "execution_count": null,
   "metadata": {},
   "outputs": [],
   "source": [
    "try:\n",
    "    node.run('sudo reboot')\n",
    "except:\n",
    "    pass\n",
    "server.wait_for_tcp(public_ip, port=22)\n",
    "node = ssh.Remote(public_ip) # note: need a new SSH session to get new PATH\n",
    "node.run('nvidia-smi')\n",
    "node.run('nvcc --version')"
   ],
   "id": "dcdd846c-24fc-4db3-a0b5-b76c6233d348"
  },
  {
   "cell_type": "code",
   "execution_count": null,
   "metadata": {},
   "outputs": [],
   "source": [
    "node.run('python3 -m pip install --user Cython==0.29.32')\n",
    "node.run('wget https://raw.githubusercontent.com/teaching-on-testbeds/colab/main/requirements_chameleon_dl.txt -O requirements_chameleon_dl.txt')\n",
    "node.run('python3 -m pip install --user -r requirements_chameleon_dl.txt --extra-index-url https://download.pytorch.org/whl/cu113 -f https://storage.googleapis.com/jax-releases/jax_cuda_releases.html')"
   ],
   "id": "6ad120f7-eab5-477a-8765-9a52e5c76e0b"
  },
  {
   "cell_type": "markdown",
   "metadata": {},
   "source": [
    "Test your installation - make sure Tensorflow can see the GPU:"
   ],
   "id": "2fdc43e4-82e2-4046-9732-efdb57c1c6cd"
  },
  {
   "cell_type": "code",
   "execution_count": null,
   "metadata": {},
   "outputs": [],
   "source": [
    "node.run('python3 -c \\'import tensorflow as tf; print(tf.config.list_physical_devices(\"GPU\"))\\'')\n",
    "# should say: PhysicalDevice(name='/physical_device:GPU:0', device_type='GPU')"
   ],
   "id": "3c874566-fc79-402e-ac18-54a635228e49"
  },
  {
   "cell_type": "markdown",
   "metadata": {},
   "source": [
    "## Install additional libraries for fast inference on GPU\n",
    "\n",
    "To squeeze all the inference speed we can out of our GPU, we’ll also install TensorRT, a framework that optimizes inference speed on NVIDIA’s GPUs."
   ],
   "id": "9cb135d1-ceb0-4926-b7e0-545f9f1ca1fb"
  },
  {
   "cell_type": "code",
   "execution_count": null,
   "metadata": {},
   "outputs": [],
   "source": [
    "# hold libcudnn8 so we won't try to upgrade it to an incompatible version\n",
    "node.run('sudo apt-mark hold libcudnn8')\n",
    "# specify python-cuda to match installed cuda version\n",
    "node.run('python3 -m pip install --user cuda-python==11.8.0')\n",
    "# specify versions for ALL the tensorrt components\n",
    "node.run('sudo apt -y install tensorrt-dev=8.6.0.12-1+cuda11.8 libnvinfer-dev=8.6.0.12-1+cuda11.8 libnvinfer-lean-dev=8.6.0.12-1+cuda11.8 libnvinfer-headers-dev=8.6.0.12-1+cuda11.8 libnvinfer8=8.6.0.12-1+cuda11.8 libnvinfer-lean8=8.6.0.12-1+cuda11.8 libnvinfer-dispatch-dev=8.6.0.12-1+cuda11.8 libnvinfer-plugin-dev=8.6.0.12-1+cuda11.8 libnvinfer-vc-plugin-dev=8.6.0.12-1+cuda11.8 libnvparsers-dev=8.6.0.12-1+cuda11.8 libnvonnxparsers-dev=8.6.0.12-1+cuda11.8 libnvparsers8=8.6.0.12-1+cuda11.8 libnvinfer-vc-plugin8=8.6.0.12-1+cuda11.8 libnvinfer-dispatch8=8.6.0.12-1+cuda11.8 libnvinfer-headers-plugin-dev=8.6.0.12-1+cuda11.8 libnvinfer-plugin8=8.6.0.12-1+cuda11.8 libnvonnxparsers8=8.6.0.12-1+cuda11.8 libcudnn8-dev=8.9.3.28-1+cuda11.8')\n",
    "node.run('sudo apt -y install python3-libnvinfer-dev=8.6.0.12-1+cuda11.8 python3-libnvinfer=8.6.0.12-1+cuda11.8 python3-libnvinfer-lean=8.6.0.12-1+cuda11.8 python3-libnvinfer-dispatch=8.6.0.12-1+cuda11.8')\n",
    "# need to update tensorflow to one that is linked against tensorrt8\n",
    "node.run('python3 -m pip install --user tensorflow==2.12.0')"
   ],
   "id": "86cae776-467b-4cdf-b854-9eec0a7c755d"
  },
  {
   "cell_type": "markdown",
   "metadata": {},
   "source": [
    "## Transfering files to the server\n",
    "\n",
    "Later in this notebook, we’ll run an image classification model - a model that accepts an image as input and “predicts” the name of the object in the image - on the server. To do this, we’ll need to upload some files to the server:\n",
    "\n",
    "-   a sample image\n",
    "-   Python code to load a model and make a prediction on the image\n",
    "\n",
    "These are all contained in the `image_model` directory. We can upload them to the server using `scp`, and specify the source directory (in the Jupyter environment) and destination directory (on the server).\n",
    "\n",
    "(The Python code will directly download a pre-trained model and the associated list of labels when we run it.)"
   ],
   "id": "0fb040b6-eda0-46c5-b63f-d83890411559"
  },
  {
   "cell_type": "code",
   "execution_count": null,
   "metadata": {},
   "outputs": [],
   "source": [
    "!scp -r -i ~/work/.ssh/id_rsa -o StrictHostKeyChecking=no image_model cc@{public_ip}:~/"
   ],
   "id": "2b87686a-683c-4c5f-a264-1ff1781dc613"
  },
  {
   "cell_type": "markdown",
   "metadata": {},
   "source": [
    "## Use a pre-trained image classification model to do inference\n",
    "\n",
    "Now, we can use the materials we uploaded to the server, and do inference - make a prediction - *on* the server.\n",
    "\n",
    "In this example, we will use a machine learning model that is specifically designed for fast inference using GPU acceleration. We will ask it to make a prediction for the following image:"
   ],
   "id": "06ae8236-4f1b-4f59-994f-50c2cd240a50"
  },
  {
   "cell_type": "code",
   "execution_count": null,
   "metadata": {},
   "outputs": [],
   "source": [
    "from IPython.display import Image\n",
    "Image('image_model/parrot.jpg') "
   ],
   "id": "92359df4-fb75-48b5-94c1-c1415d15c468"
  },
  {
   "cell_type": "code",
   "execution_count": null,
   "metadata": {},
   "outputs": [],
   "source": [
    "node.run('python /home/cc/image_model/model.py')"
   ],
   "id": "aedfeb14-c148-4f18-82e1-2a67d5a0fe39"
  },
  {
   "cell_type": "markdown",
   "metadata": {},
   "source": [
    "Make a note of the time it took to generate the prediction - would this inference time be acceptable for all applications? Also make a note of the model’s three best “guesses” regarding the label of the image - is the prediction accurate?"
   ],
   "id": "3f69291c-5512-4e0a-9e04-6e442ffb628e"
  },
  {
   "cell_type": "markdown",
   "metadata": {},
   "source": [
    "## Use a pre-trained image classification model to do inference with optimizations\n",
    "\n",
    "Now we willl repeat the image classification above, but with a version of the model that is compiled with TensorRT, for extra optimizations on NVIDIA GPUs."
   ],
   "id": "0235cb78-49b6-44af-9d62-ebed20e9594a"
  },
  {
   "cell_type": "markdown",
   "metadata": {},
   "source": [
    "First, we’ll convert the same model to a TensorRT equivalent - this will take a while."
   ],
   "id": "8f62fc67-538d-45b2-a330-57b8cbc12383"
  },
  {
   "cell_type": "code",
   "execution_count": null,
   "metadata": {},
   "outputs": [],
   "source": [
    "node.run('python /home/cc/image_model/model-convert.py')"
   ],
   "id": "69eee416-bf2a-4c86-a2c9-4c39a6d8a7e4"
  },
  {
   "cell_type": "markdown",
   "metadata": {},
   "source": [
    "Then, we can run the optimized version of the model -"
   ],
   "id": "a403ab07-db01-4ef8-aa7a-510504c16212"
  },
  {
   "cell_type": "code",
   "execution_count": null,
   "metadata": {},
   "outputs": [],
   "source": [
    "node.run('python /home/cc/image_model/model-opt.py')"
   ],
   "id": "12d3e906-dd7b-480f-9b1a-5990ef5e23a6"
  },
  {
   "cell_type": "markdown",
   "metadata": {},
   "source": [
    "Make a note of the time it took to generate the prediction - how does this compare to the previous one?"
   ],
   "id": "da7fe633-37e8-4eb0-a67f-50d2d69a2983"
  },
  {
   "cell_type": "markdown",
   "metadata": {},
   "source": [
    "## Delete the server\n",
    "\n",
    "Finally, we should stop and delete our server so that others can create new servers using the same lease. To delete our server, we can run the following cell:"
   ],
   "id": "517351f8-84ab-49ca-9d23-8a5c796332fa"
  },
  {
   "cell_type": "code",
   "execution_count": null,
   "metadata": {},
   "outputs": [],
   "source": [
    "chi.server.delete_server(server_id)"
   ],
   "id": "aa5b9455-9bb6-4598-b41c-2efba189a3f0"
  },
  {
   "cell_type": "markdown",
   "metadata": {},
   "source": [
    "Also free up the IP that you we attached to the server, now that it is no longer in use:"
   ],
   "id": "f4dd8f9f-478e-42e8-a132-533874e8c009"
  },
  {
   "cell_type": "code",
   "execution_count": null,
   "metadata": {},
   "outputs": [],
   "source": [
    "ip_details = chi.network.get_floating_ip(public_ip)\n",
    "chi.neutron().delete_floatingip(ip_details[\"id\"])"
   ],
   "id": "707d1e61-64d8-47b3-b106-ddf4649a6379"
  }
 ],
 "nbformat": 4,
 "nbformat_minor": 5,
 "metadata": {}
}
