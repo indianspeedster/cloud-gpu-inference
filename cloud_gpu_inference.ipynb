{
 "cells": [
  {
   "cell_type": "markdown",
   "metadata": {},
   "source": [
    "# Using cloud servers for GPU-based inference"
   ],
   "id": "e37339c8-8044-42dc-9f3d-dc21ce34ca25"
  },
  {
   "cell_type": "markdown",
   "metadata": {},
   "source": [
    "Machine learning models are most often trained in the “cloud”, on powerful centralized servers with specialized resources (like GPU acceleration) for training machine learning models. These servers are also well-resources for inference, i.e. making predictions on new data.\n",
    "\n",
    "In this experiment, we will use a cloud server equipped with GPU acceleration for fast inference in an image classification context."
   ],
   "id": "7051c2e6-fd6d-470b-88bd-7b342f16d21c"
  },
  {
   "cell_type": "markdown",
   "metadata": {},
   "source": [
    "This notebook assumes you already have a “lease” available for an RTX6000 GPU server on the CHI@UC testbed. Then, it will show you how to:\n",
    "\n",
    "-   launch a server using that lease\n",
    "-   attach an IP address to the server, so that you can access it over SSH\n",
    "-   install some fundamental machine learning libraries on the server\n",
    "-   use a pre-trained image classification model to do inference on the server\n",
    "-   delete the server"
   ],
   "id": "3f211d41-6ed9-479b-9af0-922c0f557883"
  },
  {
   "cell_type": "markdown",
   "metadata": {},
   "source": [
    "## Launch a cloud server\n",
    "\n",
    "We will start by preparing our environment in this notebook, then launching a cloud server using our pre-existing lease."
   ],
   "id": "c6f6f08c-3832-468d-b910-3b5eef44ae25"
  },
  {
   "cell_type": "markdown",
   "metadata": {},
   "source": [
    "First, we load some required libraries:"
   ],
   "id": "0956a56a-e430-4d2d-a696-77ea1c88e80b"
  },
  {
   "cell_type": "code",
   "execution_count": null,
   "metadata": {},
   "outputs": [],
   "source": [
    "import chi\n",
    "from chi import server\n",
    "from chi import lease\n",
    "import datetime\n",
    "import os"
   ],
   "id": "6a30fd90-7aab-43c7-8f36-095fa908d09b"
  },
  {
   "cell_type": "markdown",
   "metadata": {},
   "source": [
    "We indicate that we’re going to use the CHI@UC site. We also need to specify the name of the Chameleon “project” that this experiment is part of. The project name will have the format “CHI-XXXXXX”, where the last part is a 6-digit number, and you can find it on your [user dashboard](https://chameleoncloud.org/user/dashboard/).\n",
    "\n",
    "In the cell below, replace the project ID with your *own* project ID, then run the cell."
   ],
   "id": "92da464d-b250-4275-a9d2-5f59a23bdfed"
  },
  {
   "cell_type": "code",
   "execution_count": null,
   "metadata": {},
   "outputs": [],
   "source": [
    "chi.use_site(\"CHI@UC\")\n",
    "chi.set(\"project_name\", \"CHI-XXXXXX\")"
   ],
   "id": "fb8a2955-02f4-4d2c-87a7-3e72a6db4a3e"
  },
  {
   "cell_type": "markdown",
   "metadata": {},
   "source": [
    "Next, we’ll specify the lease ID. This notebook assumes you already have a “lease” for an RTX6000 GPU server on CHI@UC. To get the ID of this lease,\n",
    "\n",
    "-   Vist the CHI@UC [“reservations” page](chi.uc.chameleoncloud.org/project/leases/).\n",
    "-   Click on the lease name.\n",
    "-   On the following page, look for the value next to the word “Id” in the “Lease” section.\n",
    "\n",
    "Fill in the lease ID inside the quotation marks in the following cell, then run the cell."
   ],
   "id": "2846339b-0206-46db-8bba-5ab02e0140f5"
  },
  {
   "cell_type": "code",
   "execution_count": null,
   "metadata": {},
   "outputs": [],
   "source": [
    "lease_id =\"xxxxxxxx-xxxx-xxxx-xxxx-xxxxxxxxxxxx\""
   ],
   "id": "35daaa90-5246-4924-9c34-d25de22d3e53"
  },
  {
   "cell_type": "markdown",
   "metadata": {},
   "source": [
    "Now, we are ready to launch a server!"
   ],
   "id": "053bf050-9596-4c55-b639-d2292f8cb612"
  },
  {
   "cell_type": "markdown",
   "metadata": {},
   "source": [
    "First, we’ll specify the name for our server - we’ll include our username and the experiment name in the server name, so that it will be easy to identify our server in the CHI@UC web interface."
   ],
   "id": "f835b0c2-f990-46ee-885d-2d881c5d5402"
  },
  {
   "cell_type": "code",
   "execution_count": null,
   "metadata": {},
   "outputs": [],
   "source": [
    "username = os.environ.get(\"USER\")\n",
    "expname = \"cloud-gpu\"\n",
    "# set a name for the server\n",
    "server_name = f\"{username}-{expname}\".replace(\"_\",\"-\")"
   ],
   "id": "64fd57ab-5f80-47a8-a26d-ae1704347585"
  },
  {
   "cell_type": "markdown",
   "metadata": {},
   "source": [
    "We will specify the disk image that we want our server to use."
   ],
   "id": "f3f1b40c-4a1b-4730-abf5-f6a7f2bf70b5"
  },
  {
   "cell_type": "code",
   "execution_count": null,
   "metadata": {},
   "outputs": [],
   "source": [
    "chi.set(\"image\", \"CC-Ubuntu20.04\")"
   ],
   "id": "4974ac9f-6ce7-4024-a0d7-8f6b61b99ff5"
  },
  {
   "cell_type": "markdown",
   "metadata": {},
   "source": [
    "Then, we can create the server!"
   ],
   "id": "4c86a2f5-f475-4367-bd05-bf316580b607"
  },
  {
   "cell_type": "code",
   "execution_count": null,
   "metadata": {},
   "outputs": [],
   "source": [
    "server.create_server(\n",
    "    server_name, \n",
    "    reservation_id=lease_id,\n",
    "    image_name=chi.get(\"image\")\n",
    ")\n",
    "server_id = server.get_server_id(server_name)"
   ],
   "id": "cceda5fe-2e23-42b8-9f13-5ccdf64ad9bb"
  },
  {
   "cell_type": "markdown",
   "metadata": {},
   "source": [
    "The next cell waits for the server to be active."
   ],
   "id": "8c28b783-46ab-4115-b38e-ad585f38e4b0"
  },
  {
   "cell_type": "code",
   "execution_count": null,
   "metadata": {},
   "outputs": [],
   "source": [
    "# wait until server is ready to use\n",
    "server.wait_for_active(server_id)"
   ],
   "id": "5206da01-8026-4ff0-8e3b-70a64a9f67de"
  },
  {
   "cell_type": "markdown",
   "metadata": {},
   "source": [
    "Once the server is created, you should be able to see it and monitor its status on the [CHI@UC web interface](https://chi.uc.chameleoncloud.org/project/instances/). (If there was any problem while starting the server, you can also delete the server instance from that interface, in order to be able to try again.)"
   ],
   "id": "fe9ad401-067d-4386-9846-04fadcb94469"
  },
  {
   "cell_type": "markdown",
   "metadata": {},
   "source": [
    "## Attach an address and access your server over SSH"
   ],
   "id": "ab08ea6c-2205-45b0-b89c-b3c1a587224a"
  },
  {
   "cell_type": "markdown",
   "metadata": {},
   "source": [
    "Next, we will attach an address to our server, then use SSH to access its terminal.\n",
    "\n",
    "First, we’ll attach an address:"
   ],
   "id": "e948f08a-05fa-42df-825f-2de529103af0"
  },
  {
   "cell_type": "code",
   "execution_count": null,
   "metadata": {},
   "outputs": [],
   "source": [
    "public_ip = server.associate_floating_ip(server_id)\n",
    "server.wait_for_tcp(public_ip, port=22)"
   ],
   "id": "0ead2cfa-0fc8-453f-a674-1d9ea3ab1eac"
  },
  {
   "cell_type": "markdown",
   "metadata": {},
   "source": [
    "Now we can open a terminal in the Jupyter interface to access the server over SSH, using the SSH command that is printed by the following cell:"
   ],
   "id": "b1603cf7-872f-494d-ab01-72b3b4c0c4ac"
  },
  {
   "cell_type": "code",
   "execution_count": null,
   "metadata": {},
   "outputs": [],
   "source": [
    "print(\"ssh cc@%s\" % public_ip)"
   ],
   "id": "0cfdee4e-4360-4919-8c76-32f29636892b"
  },
  {
   "cell_type": "markdown",
   "metadata": {},
   "source": [
    "## Install machine learning libraries on your server"
   ],
   "id": "6b064506-a3ac-4f4d-90a8-a7a8c9ba49ff"
  },
  {
   "cell_type": "code",
   "execution_count": null,
   "metadata": {},
   "outputs": [],
   "source": [
    "from chi import ssh\n",
    "\n",
    "node = ssh.Remote(reserved_fip)"
   ],
   "id": "7db3dbdf-bbf2-4118-9a5e-a5dad53311d4"
  },
  {
   "cell_type": "code",
   "execution_count": null,
   "metadata": {},
   "outputs": [],
   "source": [
    "node.run('sudo apt update')\n",
    "node.run('sudo apt -y install python3-pip python3-dev')\n",
    "node.run('sudo pip3 install --upgrade pip')"
   ],
   "id": "86c5a904-2a42-41f9-8cd0-ad82c9e1ea7b"
  },
  {
   "cell_type": "code",
   "execution_count": null,
   "metadata": {},
   "outputs": [],
   "source": [
    "node.run('wget https://developer.download.nvidia.com/compute/cuda/repos/ubuntu2004/x86_64/cuda-keyring_1.0-1_all.deb')\n",
    "node.run('sudo dpkg -i cuda-keyring_1.0-1_all.deb')\n",
    "node.run('sudo apt update')\n",
    "node.run('sudo apt -y install linux-headers-$(uname -r)')\n",
    "node.run('sudo apt-mark hold cuda-toolkit-12-config-common nvidia-driver-535') # don't let it install this cuda\n",
    "node.run('sudo apt -y install nvidia-driver-520') # this driver likes CUDA 11.8"
   ],
   "id": "79fa42a3-bad3-46e9-9404-a7f0f49e299d"
  },
  {
   "cell_type": "code",
   "execution_count": null,
   "metadata": {},
   "outputs": [],
   "source": [
    "try:\n",
    "    node.run('sudo reboot') # reboot and wait for it to come up\n",
    "except:\n",
    "    pass\n",
    "server.wait_for_tcp(reserved_fip, port=22)\n",
    "node = ssh.Remote(reserved_fip) "
   ],
   "id": "a766ab0d-f8bf-4884-8afc-3ab3a38b8c40"
  },
  {
   "cell_type": "code",
   "execution_count": null,
   "metadata": {},
   "outputs": [],
   "source": [
    "node.run('sudo apt -y install cuda-11-8 cuda-runtime-11-8 cuda-drivers=520.61.05-1')\n",
    "node.run('sudo apt -y install nvidia-gds-11-8') # install instructions say to do this separately!\n",
    "node.run('sudo apt -y install libcudnn8=8.9.3.28-1+cuda11.8 nvidia-cuda-toolkit') # make sure the get cuda-11-8 version"
   ],
   "id": "9f0bf3e7-3e81-4bc6-b9f0-63c7cdb1e1c9"
  },
  {
   "cell_type": "code",
   "execution_count": null,
   "metadata": {},
   "outputs": [],
   "source": [
    "node.run(\"echo 'PATH=\\\"/usr/local/cuda-11.8/bin:/usr/local/sbin:/usr/local/bin:/usr/sbin:/usr/bin:/sbin:/bin:/snap/bin\\\"' | sudo tee /etc/environment\")"
   ],
   "id": "104b1a1f-74b7-47ab-b351-f481dbb48ab1"
  },
  {
   "cell_type": "code",
   "execution_count": null,
   "metadata": {},
   "outputs": [],
   "source": [
    "try:\n",
    "    node.run('sudo reboot')\n",
    "except:\n",
    "    pass\n",
    "server.wait_for_tcp(reserved_fip, port=22)\n",
    "node = ssh.Remote(reserved_fip) # note: need a new SSH session to get new PATH\n",
    "node.run('nvidia-smi')\n",
    "node.run('nvcc --version')"
   ],
   "id": "f425f081-eb24-4585-b87f-7ae67ef8e2fb"
  },
  {
   "cell_type": "code",
   "execution_count": null,
   "metadata": {},
   "outputs": [],
   "source": [
    "node.run('python3 -m pip install --user Cython==0.29.32')\n",
    "node.run('wget https://raw.githubusercontent.com/teaching-on-testbeds/colab/main/requirements_chameleon_dl.txt -O requirements_chameleon_dl.txt')\n",
    "node.run('python3 -m pip install --user -r requirements_chameleon_dl.txt --extra-index-url https://download.pytorch.org/whl/cu113 -f https://storage.googleapis.com/jax-releases/jax_cuda_releases.html')"
   ],
   "id": "2bc9d203-1d0b-4344-a083-4a83451a093f"
  },
  {
   "cell_type": "markdown",
   "metadata": {},
   "source": [
    "Test your installation - make sure Tensorflow can see the GPU:"
   ],
   "id": "b97ea5ff-8f19-48f4-a3cc-76eacad03473"
  },
  {
   "cell_type": "code",
   "execution_count": null,
   "metadata": {},
   "outputs": [],
   "source": [
    "node.run('python3 -c \\'import tensorflow as tf; print(tf.config.list_physical_devices(\"GPU\"))\\'')\n",
    "# should say: PhysicalDevice(name='/physical_device:GPU:0', device_type='GPU')"
   ],
   "id": "da5e56d4-392e-438b-9bef-23f191f6b974"
  },
  {
   "cell_type": "markdown",
   "metadata": {},
   "source": [
    "## Transfering files to the server\n",
    "\n",
    "Later in this notebook, we’ll run an image classification model - a model that accepts an image as input and “predicts” the name of the object in the image - on the server. To do this, we’ll need to upload some files to the server:\n",
    "\n",
    "-   a sample image\n",
    "-   Python code to load a model and make a prediction on the image\n",
    "\n",
    "These are all contained in the `image_model` directory. We can upload them to the server using `scp`, and specify the source directory (in the Jupyter environment) and destination directory (on the server).\n",
    "\n",
    "(The Python code will directly download a pre-trained model and the associated list of labels when we run it.)"
   ],
   "id": "12bdbfb4-fd9a-43d3-a11a-4050a0ad4591"
  },
  {
   "cell_type": "code",
   "execution_count": null,
   "metadata": {},
   "outputs": [],
   "source": [
    "!scp -r image_model cc@{public_ip}:~/"
   ],
   "id": "6cb4b4f4-9463-4087-bf77-4a06c35f2c9a"
  },
  {
   "cell_type": "markdown",
   "metadata": {},
   "source": [
    "## Use a pre-trained image classification model to do inference\n",
    "\n",
    "Now, we can use the materials we uploaded to the server, and do inference - make a prediction - *on* the server.\n",
    "\n",
    "In this example, we will use a machine learning model that is specifically designed for fast inference using GPU acceleration."
   ],
   "id": "744ac64f-fb58-4173-b488-e86c8ce39d87"
  },
  {
   "cell_type": "markdown",
   "metadata": {},
   "source": [
    "First, we need to install a couple of Python libraries on the server, including:\n",
    "\n",
    "-   CUDA, a framework for fast machine learning operations on GPU.\n",
    "-   `tensorflow` is a library for machine learning, and is capable of fast operation using GPU acceleration when a GPU is available. We’ll also get the `tensorflow-hub` library which enables us to retrieve pre-trained models shared by others at the [Tensorflow Hub](https://tfhub.dev/).\n",
    "-   `Pillow` is used for image processing.\n",
    "\n",
    "Run the following inside an SSH session on the server:"
   ],
   "id": "5252d52d-b830-4651-a017-17b0c5597215"
  },
  {
   "cell_type": "markdown",
   "metadata": {},
   "source": [
    "``` python\n",
    "from chi import ssh\n",
    "\n",
    "node = ssh.Remote(public_ip)\n",
    "node.run('sudo apt update; sudo apt -y install cuda-11-8 libcudnn8=8.6.0.163-1+cuda11.8)\n",
    "node.run('pip install nvidia-cudnn-cu11 tensorflow tensorflow-hub Pillow')\n",
    "```"
   ],
   "id": "31d9e3e5-9d10-4f3c-8054-f3faf9ad9237"
  },
  {
   "cell_type": "markdown",
   "metadata": {},
   "source": [
    "Then, we can execute the machine learning model! We will ask it to make a prediction for the following image:"
   ],
   "id": "67536ea0-4e25-46ca-84b0-00e8906b532c"
  },
  {
   "cell_type": "code",
   "execution_count": null,
   "metadata": {},
   "outputs": [],
   "source": [
    "from IPython.display import Image\n",
    "Image('image_model/parrot.jpg') "
   ],
   "id": "555437ee-ee74-4345-b835-f324d358d06e"
  },
  {
   "cell_type": "code",
   "execution_count": null,
   "metadata": {},
   "outputs": [],
   "source": [
    "node.run('python /home/cc/image_model/model.py')"
   ],
   "id": "5cc68aab-9c70-4c52-8a8f-a0158848cf5e"
  },
  {
   "cell_type": "markdown",
   "metadata": {},
   "source": [
    "Make a note of the time it took to generate the prediction - would this inference time be acceptable for all applications? Also make a note of the model’s three best “guesses” regarding the label of the image - is the prediction accurate?"
   ],
   "id": "e7361c17-85a9-4529-9922-52db881ffb76"
  },
  {
   "cell_type": "markdown",
   "metadata": {},
   "source": [
    "## Delete the server\n",
    "\n",
    "Finally, we should stop and delete our server so that others can create new servers using the same lease. To delete our server, we can run the following cell:"
   ],
   "id": "ca32deb8-6db0-4ba6-ae32-ef8ccd96ec0e"
  },
  {
   "cell_type": "code",
   "execution_count": null,
   "metadata": {},
   "outputs": [],
   "source": [
    "chi.server.delete_server(server_id)"
   ],
   "id": "9a70e0a2-be08-4d6f-b1ed-d72db8235f5d"
  },
  {
   "cell_type": "markdown",
   "metadata": {},
   "source": [
    "Also free up the IP that you we attached to the server, now that it is no longer in use:"
   ],
   "id": "a6cb79e5-8b69-478e-80a7-70e6a81f3f91"
  },
  {
   "cell_type": "code",
   "execution_count": null,
   "metadata": {},
   "outputs": [],
   "source": [
    "ip_details = chi.network.get_floating_ip(public_ip)\n",
    "chi.neutron().delete_floatingip(ip_details[\"id\"])"
   ],
   "id": "ac519143-e819-41a5-91f5-48917abbb55e"
  }
 ],
 "nbformat": 4,
 "nbformat_minor": 5,
 "metadata": {}
}
