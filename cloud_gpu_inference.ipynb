{
 "cells": [
  {
   "cell_type": "markdown",
   "metadata": {},
   "source": [
    "# Using cloud servers for GPU-based inference"
   ],
   "id": "2d34fa12-6501-43c8-8826-aa339b1a7434"
  },
  {
   "cell_type": "markdown",
   "metadata": {},
   "source": [
    "Machine learning models are most often trained in the “cloud”, on powerful centralized servers with specialized resources (like GPU acceleration) for training machine learning models. These servers are also well-resources for inference, i.e. making predictions on new data.\n",
    "\n",
    "In this experiment, we will use a cloud server equipped with GPU acceleration for fast inference in an image classification context."
   ],
   "id": "50f755d7-4513-44ee-bf98-fbe84f32aebb"
  },
  {
   "cell_type": "markdown",
   "metadata": {},
   "source": [
    "This notebook assumes you already have a “lease” available for an RTX6000 GPU server on the CHI@UC testbed. Then, it will show you how to:\n",
    "\n",
    "-   launch a server using that lease\n",
    "-   attach an IP address to the server, so that you can access it over SSH\n",
    "-   install some fundamental machine learning libraries on the server\n",
    "-   use a pre-trained image classification model to do inference on the server\n",
    "-   delete the server"
   ],
   "id": "856a8599-6345-45e9-adbc-d666aed3bb02"
  },
  {
   "cell_type": "markdown",
   "metadata": {},
   "source": [
    "## Launch a cloud server\n",
    "\n",
    "We will start by preparing our environment in this notebook, then launching a cloud server using our pre-existing lease."
   ],
   "id": "d2f39e49-3de9-43c3-a742-57b150fab3c6"
  },
  {
   "cell_type": "markdown",
   "metadata": {},
   "source": [
    "First, we load some required libraries:"
   ],
   "id": "e2180ff3-2eaa-41d1-9106-cc4b0f1968b2"
  },
  {
   "cell_type": "code",
   "execution_count": null,
   "metadata": {},
   "outputs": [],
   "source": [
    "import chi\n",
    "from chi import server\n",
    "from chi import lease\n",
    "import datetime\n",
    "import os"
   ],
   "id": "c66202e5-1cc2-4e93-95e4-7ee76e413857"
  },
  {
   "cell_type": "markdown",
   "metadata": {},
   "source": [
    "We indicate that we’re going to use the CHI@UC site. We also need to specify the name of the Chameleon “project” that this experiment is part of. The project name will have the format “CHI-XXXXXX”, where the last part is a 6-digit number, and you can find it on your [user dashboard](https://chameleoncloud.org/user/dashboard/).\n",
    "\n",
    "In the cell below, replace the project ID with your *own* project ID, then run the cell."
   ],
   "id": "bc279b04-184e-4062-805f-b50c4f8b3501"
  },
  {
   "cell_type": "code",
   "execution_count": null,
   "metadata": {},
   "outputs": [],
   "source": [
    "chi.use_site(\"CHI@UC\")\n",
    "chi.set(\"project_name\", \"CHI-XXXXXX\")"
   ],
   "id": "98257f47-2b8c-4de2-8c36-4894c98160a6"
  },
  {
   "cell_type": "markdown",
   "metadata": {},
   "source": [
    "Next, we’ll specify the lease ID. This notebook assumes you already have a “lease” for an RTX6000 GPU server on CHI@UC. To get the ID of this lease,\n",
    "\n",
    "-   Vist the CHI@UC [“reservations” page](chi.uc.chameleoncloud.org/project/leases/).\n",
    "-   Click on the lease name.\n",
    "-   On the following page, look for the value next to the word “Id” in the “Lease” section.\n",
    "\n",
    "Fill in the lease ID inside the quotation marks in the following cell, then run the cell."
   ],
   "id": "6d2d6d54-6411-4f5f-97df-e4cccd79881e"
  },
  {
   "cell_type": "code",
   "execution_count": null,
   "metadata": {},
   "outputs": [],
   "source": [
    "lease_id =\"xxxxxxxx-xxxx-xxxx-xxxx-xxxxxxxxxxxx\""
   ],
   "id": "7276cb41-b7f2-433e-a3ac-c1fbcd51eed7"
  },
  {
   "cell_type": "markdown",
   "metadata": {},
   "source": [
    "Now, we are ready to launch a server!"
   ],
   "id": "90d99385-714a-4bef-a614-b6da5770d28a"
  },
  {
   "cell_type": "markdown",
   "metadata": {},
   "source": [
    "First, we’ll specify the name for our server - we’ll include our username and the experiment name in the server name, so that it will be easy to identify our server in the CHI@UC web interface."
   ],
   "id": "3995e64b-f17c-4437-86ab-4cc444bbf9ac"
  },
  {
   "cell_type": "code",
   "execution_count": null,
   "metadata": {},
   "outputs": [],
   "source": [
    "username = os.environ.get(\"USER\")\n",
    "expname = \"cloud-gpu\"\n",
    "# set a name for the server\n",
    "server_name = f\"{username}-{expname}\".replace(\"_\",\"-\")"
   ],
   "id": "6d818b82-9868-46f9-94fb-9d0aa498a4ce"
  },
  {
   "cell_type": "markdown",
   "metadata": {},
   "source": [
    "We will specify the disk image that we want our server to use."
   ],
   "id": "fb31a068-bddf-443c-9a19-eff7abaab9bd"
  },
  {
   "cell_type": "code",
   "execution_count": null,
   "metadata": {},
   "outputs": [],
   "source": [
    "chi.set(\"image\", \"CC-Ubuntu20.04\")"
   ],
   "id": "fc82e2c3-f411-42ee-92df-c9e49a6ac36e"
  },
  {
   "cell_type": "markdown",
   "metadata": {},
   "source": [
    "Then, we can create the server!"
   ],
   "id": "7aa6545c-aa00-49cc-9507-322b5c36758a"
  },
  {
   "cell_type": "code",
   "execution_count": null,
   "metadata": {},
   "outputs": [],
   "source": [
    "server.create_server(\n",
    "    server_name, \n",
    "    reservation_id=lease.get_node_reservation(lease_id),\n",
    "    image_name=chi.get(\"image\")\n",
    ")\n",
    "server_id = server.get_server_id(server_name)"
   ],
   "id": "2b3138c7-6f18-41c7-b39a-f573fb37f192"
  },
  {
   "cell_type": "markdown",
   "metadata": {},
   "source": [
    "The next cell waits for the server to be active."
   ],
   "id": "6286b8d5-7311-4450-b13e-5eda7447613e"
  },
  {
   "cell_type": "code",
   "execution_count": null,
   "metadata": {},
   "outputs": [],
   "source": [
    "# wait until server is ready to use\n",
    "server.wait_for_active(server_id)"
   ],
   "id": "2b57a46a-4944-4a1c-9b80-00931648fcdb"
  },
  {
   "cell_type": "markdown",
   "metadata": {},
   "source": [
    "Once the server is created, you should be able to see it and monitor its status on the [CHI@UC web interface](https://chi.uc.chameleoncloud.org/project/instances/). (If there was any problem while starting the server, you can also delete the server instance from that interface, in order to be able to try again.)"
   ],
   "id": "7cf54787-e601-4882-afaa-ecbd37f5edf1"
  },
  {
   "cell_type": "markdown",
   "metadata": {},
   "source": [
    "## Attach an address and access your server over SSH"
   ],
   "id": "0c334af4-b0ab-4983-bcff-4dadfd540ced"
  },
  {
   "cell_type": "markdown",
   "metadata": {},
   "source": [
    "Next, we will attach an address to our server, then use SSH to access its terminal.\n",
    "\n",
    "First, we’ll attach an address:"
   ],
   "id": "e7dbd4d8-7a4b-4878-b1ee-b9b5dbac95d1"
  },
  {
   "cell_type": "code",
   "execution_count": null,
   "metadata": {},
   "outputs": [],
   "source": [
    "public_ip = server.associate_floating_ip(server_id)\n",
    "server.wait_for_tcp(public_ip, port=22)"
   ],
   "id": "aa78aad6-8a03-455b-9ebe-815d84cc2bb1"
  },
  {
   "cell_type": "markdown",
   "metadata": {},
   "source": [
    "Now we can open a terminal in the Jupyter interface to access the server over SSH, using the SSH command that is printed by the following cell:"
   ],
   "id": "e0e850d4-b36d-4c16-961c-e123fa822dcf"
  },
  {
   "cell_type": "code",
   "execution_count": null,
   "metadata": {},
   "outputs": [],
   "source": [
    "print(\"ssh cc@%s\" % public_ip)"
   ],
   "id": "c2909745-1f01-4b25-9206-64aef8ac0458"
  },
  {
   "cell_type": "markdown",
   "metadata": {},
   "source": [
    "## Install machine learning libraries on your server"
   ],
   "id": "dc151242-daec-4318-8d99-19de25eceb01"
  },
  {
   "cell_type": "code",
   "execution_count": null,
   "metadata": {},
   "outputs": [],
   "source": [
    "from chi import ssh\n",
    "\n",
    "node = ssh.Remote(public_ip)"
   ],
   "id": "5aa8a165-dba0-4163-8d8c-9d598badde06"
  },
  {
   "cell_type": "code",
   "execution_count": null,
   "metadata": {},
   "outputs": [],
   "source": [
    "node.run('sudo apt update')\n",
    "node.run('sudo apt -y install python3-pip python3-dev')\n",
    "node.run('sudo pip3 install --upgrade pip')"
   ],
   "id": "53b4a9a4-8839-4ff2-a417-cda1ae1e13ef"
  },
  {
   "cell_type": "code",
   "execution_count": null,
   "metadata": {},
   "outputs": [],
   "source": [
    "node.run('wget https://developer.download.nvidia.com/compute/cuda/repos/ubuntu2004/x86_64/cuda-keyring_1.0-1_all.deb')\n",
    "node.run('sudo dpkg -i cuda-keyring_1.0-1_all.deb')\n",
    "node.run('sudo apt update')\n",
    "node.run('sudo apt -y install linux-headers-$(uname -r)')\n",
    "node.run('sudo apt-mark hold cuda-toolkit-12-config-common nvidia-driver-535') # don't let it install this cuda\n",
    "node.run('sudo apt -y install nvidia-driver-520') # this driver likes CUDA 11.8"
   ],
   "id": "5163b123-76a9-4862-baec-02c1cd8069d6"
  },
  {
   "cell_type": "code",
   "execution_count": null,
   "metadata": {},
   "outputs": [],
   "source": [
    "try:\n",
    "    node.run('sudo reboot') # reboot and wait for it to come up\n",
    "except:\n",
    "    pass\n",
    "server.wait_for_tcp(public_ip, port=22)\n",
    "node = ssh.Remote(public_ip) "
   ],
   "id": "9d4da2c6-8f9e-4f5d-b099-ab991adcb6d1"
  },
  {
   "cell_type": "code",
   "execution_count": null,
   "metadata": {},
   "outputs": [],
   "source": [
    "node.run('sudo apt -y install cuda-11-8 cuda-runtime-11-8 cuda-drivers=520.61.05-1')\n",
    "node.run('sudo apt -y install nvidia-gds-11-8') # install instructions say to do this separately!\n",
    "node.run('sudo apt -y install libcudnn8=8.9.3.28-1+cuda11.8 nvidia-cuda-toolkit') # make sure the get cuda-11-8 version"
   ],
   "id": "3d6d31a5-6b21-4bec-bc6b-6ab83d33f169"
  },
  {
   "cell_type": "code",
   "execution_count": null,
   "metadata": {},
   "outputs": [],
   "source": [
    "node.run(\"echo 'PATH=\\\"/usr/local/cuda-11.8/bin:/usr/local/sbin:/usr/local/bin:/usr/sbin:/usr/bin:/sbin:/bin:/snap/bin\\\"' | sudo tee /etc/environment\")"
   ],
   "id": "636effec-d9c9-4373-9f5a-8fdb9b395098"
  },
  {
   "cell_type": "code",
   "execution_count": null,
   "metadata": {},
   "outputs": [],
   "source": [
    "try:\n",
    "    node.run('sudo reboot')\n",
    "except:\n",
    "    pass\n",
    "server.wait_for_tcp(public_ip, port=22)\n",
    "node = ssh.Remote(public_ip) # note: need a new SSH session to get new PATH\n",
    "node.run('nvidia-smi')\n",
    "node.run('nvcc --version')"
   ],
   "id": "aa05a3e8-88bf-4df5-8858-6fe4cbdb5dcd"
  },
  {
   "cell_type": "code",
   "execution_count": null,
   "metadata": {},
   "outputs": [],
   "source": [
    "node.run('python3 -m pip install --user Cython==0.29.32')\n",
    "node.run('wget https://raw.githubusercontent.com/teaching-on-testbeds/colab/main/requirements_chameleon_dl.txt -O requirements_chameleon_dl.txt')\n",
    "node.run('python3 -m pip install --user -r requirements_chameleon_dl.txt --extra-index-url https://download.pytorch.org/whl/cu113 -f https://storage.googleapis.com/jax-releases/jax_cuda_releases.html')"
   ],
   "id": "52b65a04-297c-4b4b-af68-5c6d0575afd7"
  },
  {
   "cell_type": "markdown",
   "metadata": {},
   "source": [
    "Test your installation - make sure Tensorflow can see the GPU:"
   ],
   "id": "f2003f79-bd80-44d3-b5a1-b62280af4b5c"
  },
  {
   "cell_type": "code",
   "execution_count": null,
   "metadata": {},
   "outputs": [],
   "source": [
    "node.run('python3 -c \\'import tensorflow as tf; print(tf.config.list_physical_devices(\"GPU\"))\\'')\n",
    "# should say: PhysicalDevice(name='/physical_device:GPU:0', device_type='GPU')"
   ],
   "id": "d4411e9a-c42d-4a26-bc49-0e23a9f1f246"
  },
  {
   "cell_type": "markdown",
   "metadata": {},
   "source": [
    "## Transfering files to the server\n",
    "\n",
    "Later in this notebook, we’ll run an image classification model - a model that accepts an image as input and “predicts” the name of the object in the image - on the server. To do this, we’ll need to upload some files to the server:\n",
    "\n",
    "-   a sample image\n",
    "-   Python code to load a model and make a prediction on the image\n",
    "\n",
    "These are all contained in the `image_model` directory. We can upload them to the server using `scp`, and specify the source directory (in the Jupyter environment) and destination directory (on the server).\n",
    "\n",
    "(The Python code will directly download a pre-trained model and the associated list of labels when we run it.)"
   ],
   "id": "6f13bdc1-d353-43e9-b292-b046495b1765"
  },
  {
   "cell_type": "code",
   "execution_count": null,
   "metadata": {},
   "outputs": [],
   "source": [
    "!scp -r image_model cc@{public_ip}:~/"
   ],
   "id": "6bf7ec5a-165c-4040-8345-3343e9f7394d"
  },
  {
   "cell_type": "markdown",
   "metadata": {},
   "source": [
    "## Use a pre-trained image classification model to do inference\n",
    "\n",
    "Now, we can use the materials we uploaded to the server, and do inference - make a prediction - *on* the server.\n",
    "\n",
    "In this example, we will use a machine learning model that is specifically designed for fast inference using GPU acceleration."
   ],
   "id": "63c1b882-adb9-4931-889e-29accfa17bda"
  },
  {
   "cell_type": "markdown",
   "metadata": {},
   "source": [
    "First, we need to install a couple of Python libraries on the server, including:\n",
    "\n",
    "-   CUDA, a framework for fast machine learning operations on GPU.\n",
    "-   `tensorflow` is a library for machine learning, and is capable of fast operation using GPU acceleration when a GPU is available. We’ll also get the `tensorflow-hub` library which enables us to retrieve pre-trained models shared by others at the [Tensorflow Hub](https://tfhub.dev/).\n",
    "-   `Pillow` is used for image processing.\n",
    "\n",
    "Run the following inside an SSH session on the server:"
   ],
   "id": "0ca40f03-e348-47ed-9a06-1735a8ca5c67"
  },
  {
   "cell_type": "markdown",
   "metadata": {},
   "source": [
    "``` python\n",
    "from chi import ssh\n",
    "\n",
    "node = ssh.Remote(public_ip)\n",
    "node.run('sudo apt update; sudo apt -y install cuda-11-8 libcudnn8=8.6.0.163-1+cuda11.8)\n",
    "node.run('pip install nvidia-cudnn-cu11 tensorflow tensorflow-hub Pillow')\n",
    "```"
   ],
   "id": "ffd5f71f-c6b7-4975-af6b-b9499202169b"
  },
  {
   "cell_type": "markdown",
   "metadata": {},
   "source": [
    "Then, we can execute the machine learning model! We will ask it to make a prediction for the following image:"
   ],
   "id": "0029f715-3f9d-4202-86e3-3daeaa2477d6"
  },
  {
   "cell_type": "code",
   "execution_count": null,
   "metadata": {},
   "outputs": [],
   "source": [
    "from IPython.display import Image\n",
    "Image('image_model/parrot.jpg') "
   ],
   "id": "6d5a29cc-909c-4634-b977-ee82e21f0d34"
  },
  {
   "cell_type": "code",
   "execution_count": null,
   "metadata": {},
   "outputs": [],
   "source": [
    "node.run('python /home/cc/image_model/model.py')"
   ],
   "id": "db29ca62-5e5c-42ba-96df-ecc188847235"
  },
  {
   "cell_type": "markdown",
   "metadata": {},
   "source": [
    "Make a note of the time it took to generate the prediction - would this inference time be acceptable for all applications? Also make a note of the model’s three best “guesses” regarding the label of the image - is the prediction accurate?"
   ],
   "id": "e871db79-9d82-41e4-8ac9-8fd1c98e1a36"
  },
  {
   "cell_type": "markdown",
   "metadata": {},
   "source": [
    "## Delete the server\n",
    "\n",
    "Finally, we should stop and delete our server so that others can create new servers using the same lease. To delete our server, we can run the following cell:"
   ],
   "id": "c7114e96-13ae-4f78-838a-538995120a41"
  },
  {
   "cell_type": "code",
   "execution_count": null,
   "metadata": {},
   "outputs": [],
   "source": [
    "chi.server.delete_server(server_id)"
   ],
   "id": "c4bcbef8-584b-4beb-8b42-56fcaa34feff"
  },
  {
   "cell_type": "markdown",
   "metadata": {},
   "source": [
    "Also free up the IP that you we attached to the server, now that it is no longer in use:"
   ],
   "id": "0ec7d6ad-f2fc-4368-8a59-06c07e8096f4"
  },
  {
   "cell_type": "code",
   "execution_count": null,
   "metadata": {},
   "outputs": [],
   "source": [
    "ip_details = chi.network.get_floating_ip(public_ip)\n",
    "chi.neutron().delete_floatingip(ip_details[\"id\"])"
   ],
   "id": "785054a6-f52c-498e-8984-98c06950212e"
  }
 ],
 "nbformat": 4,
 "nbformat_minor": 5,
 "metadata": {}
}
