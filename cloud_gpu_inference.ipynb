{
 "cells": [
  {
   "cell_type": "markdown",
   "metadata": {},
   "source": [
    "# Using cloud servers for GPU-based inference"
   ],
   "id": "cc20301a-c5b2-47d3-9450-dfa1b36846b8"
  },
  {
   "cell_type": "markdown",
   "metadata": {},
   "source": [
    "Machine learning models are most often trained in the “cloud”, on powerful centralized servers with specialized resources (like GPU acceleration) for training machine learning models. These servers are also well-resources for inference, i.e. making predictions on new data.\n",
    "\n",
    "In this experiment, we will use a cloud server equipped with GPU acceleration for fast inference in an image classification context."
   ],
   "id": "a13bd436-fb4f-4485-a347-fb681e9a0c05"
  },
  {
   "cell_type": "markdown",
   "metadata": {},
   "source": [
    "This notebook assumes you already have a “lease” available for an RTX6000 GPU server on the CHI@UC testbed. Then, it will show you how to:\n",
    "\n",
    "-   launch a server using that lease\n",
    "-   attach an IP address to the server, so that you can access it over SSH\n",
    "-   install some fundamental machine learning libraries on the server\n",
    "-   use a pre-trained image classification model to do inference on the server\n",
    "-   delete the server"
   ],
   "id": "e5e5d40e-fad3-4e15-bdaa-741c9caee098"
  },
  {
   "cell_type": "markdown",
   "metadata": {},
   "source": [
    "## Launch a cloud server\n",
    "\n",
    "We will start by preparing our environment in this notebook, then launching a cloud server using our pre-existing lease."
   ],
   "id": "8dc061cb-7dd6-4417-9daf-b3e00b948340"
  },
  {
   "cell_type": "markdown",
   "metadata": {},
   "source": [
    "First, we load some required libraries:"
   ],
   "id": "41869db5-f6ac-45ea-9dc6-e423c4d2e3fc"
  },
  {
   "cell_type": "code",
   "execution_count": null,
   "metadata": {},
   "outputs": [],
   "source": [
    "import chi\n",
    "from chi import server\n",
    "from chi import lease\n",
    "import datetime\n",
    "import os"
   ],
   "id": "97d37192-cde4-4ba3-af3f-cf1a983bb2c0"
  },
  {
   "cell_type": "markdown",
   "metadata": {},
   "source": [
    "We indicate that we’re going to use the CHI@UC site. We also need to specify the name of the Chameleon “project” that this experiment is part of. The project name will have the format “CHI-XXXXXX”, where the last part is a 6-digit number, and you can find it on your [user dashboard](https://chameleoncloud.org/user/dashboard/).\n",
    "\n",
    "In the cell below, replace the project ID with your *own* project ID, then run the cell."
   ],
   "id": "fcd4756d-66f3-4ee7-824a-85b6c66e290b"
  },
  {
   "cell_type": "code",
   "execution_count": null,
   "metadata": {},
   "outputs": [],
   "source": [
    "chi.use_site(\"CHI@UC\")\n",
    "chi.set(\"project_name\", \"CHI-XXXXXX\")"
   ],
   "id": "faec8024-e040-499e-b5c1-28765f6b8a61"
  },
  {
   "cell_type": "markdown",
   "metadata": {},
   "source": [
    "Next, we’ll specify the lease ID. This notebook assumes you already have a “lease” for an RTX6000 GPU server on CHI@UC. To get the ID of this lease,\n",
    "\n",
    "-   Vist the CHI@UC [“reservations” page](chi.uc.chameleoncloud.org/project/leases/).\n",
    "-   Click on the lease name.\n",
    "-   On the following page, look for the value next to the word “Id” in the “Lease” section.\n",
    "\n",
    "Fill in the lease ID inside the quotation marks in the following cell, then run the cell."
   ],
   "id": "809921ca-9a80-4826-93ff-27f3a90c5b61"
  },
  {
   "cell_type": "code",
   "execution_count": null,
   "metadata": {},
   "outputs": [],
   "source": [
    "lease_id =\"xxxxxxxx-xxxx-xxxx-xxxx-xxxxxxxxxxxx\""
   ],
   "id": "0f9f7b14-cf79-4ba6-9369-42abed012b3c"
  },
  {
   "cell_type": "markdown",
   "metadata": {},
   "source": [
    "Now, we are ready to launch a server!"
   ],
   "id": "a73a3dbf-8169-44a8-bef9-1fa70f726f98"
  },
  {
   "cell_type": "markdown",
   "metadata": {},
   "source": [
    "First, we’ll specify the name for our server - we’ll include our username and the experiment name in the server name, so that it will be easy to identify our server in the CHI@UC web interface."
   ],
   "id": "3affa5d5-09b7-4536-9dc1-112fc914c7d9"
  },
  {
   "cell_type": "code",
   "execution_count": null,
   "metadata": {},
   "outputs": [],
   "source": [
    "username = os.environ.get(\"USER\")\n",
    "expname = \"cloud-gpu\"\n",
    "# set a name for the server\n",
    "server_name = f\"{username}-{expname}\".replace(\"_\",\"-\")"
   ],
   "id": "3b20e20a-f84c-4038-a832-2f8b0e0f1041"
  },
  {
   "cell_type": "markdown",
   "metadata": {},
   "source": [
    "We will specify the disk image that we want our server to use."
   ],
   "id": "05b8f495-ce40-461a-a610-54c194d51f6a"
  },
  {
   "cell_type": "code",
   "execution_count": null,
   "metadata": {},
   "outputs": [],
   "source": [
    "chi.set(\"image\", \"CC-Ubuntu20.04\")"
   ],
   "id": "0c9e401d-2535-446c-bc7e-75692e3f0795"
  },
  {
   "cell_type": "markdown",
   "metadata": {},
   "source": [
    "Then, we can create the server!"
   ],
   "id": "c3031e44-4c39-493a-aeba-0dd2664b3a32"
  },
  {
   "cell_type": "code",
   "execution_count": null,
   "metadata": {},
   "outputs": [],
   "source": [
    "server.create_server(\n",
    "    server_name, \n",
    "    reservation_id=lease.get_node_reservation(lease_id),\n",
    "    image_name=chi.get(\"image\")\n",
    ")\n",
    "server_id = server.get_server_id(server_name)"
   ],
   "id": "6a08b021-8a2c-4211-95b5-e96ddbd14ea2"
  },
  {
   "cell_type": "markdown",
   "metadata": {},
   "source": [
    "The next cell waits for the server to be active."
   ],
   "id": "e525f1ef-5681-4c72-8f24-e73d32e6b75c"
  },
  {
   "cell_type": "code",
   "execution_count": null,
   "metadata": {},
   "outputs": [],
   "source": [
    "# wait until server is ready to use\n",
    "server.wait_for_active(server_id)"
   ],
   "id": "32e2e1c7-6fdb-4c82-bfb0-13425ecfad4d"
  },
  {
   "cell_type": "markdown",
   "metadata": {},
   "source": [
    "Once the server is created, you should be able to see it and monitor its status on the [CHI@UC web interface](https://chi.uc.chameleoncloud.org/project/instances/). (If there was any problem while starting the server, you can also delete the server instance from that interface, in order to be able to try again.)"
   ],
   "id": "bfc3cf8f-54c3-449b-a8bf-07e0a98c6f10"
  },
  {
   "cell_type": "markdown",
   "metadata": {},
   "source": [
    "## Attach an address and access your server over SSH"
   ],
   "id": "d88a7a67-1373-4cfe-949e-a27fc1cbdb53"
  },
  {
   "cell_type": "markdown",
   "metadata": {},
   "source": [
    "Next, we will attach an address to our server, then use SSH to access its terminal.\n",
    "\n",
    "First, we’ll attach an address:"
   ],
   "id": "1c1f2760-cba3-426a-a3cf-6512eeb80e55"
  },
  {
   "cell_type": "code",
   "execution_count": null,
   "metadata": {},
   "outputs": [],
   "source": [
    "public_ip = server.associate_floating_ip(server_id)\n",
    "server.wait_for_tcp(public_ip, port=22)"
   ],
   "id": "c57c7920-f88f-4109-8025-d3c76e016854"
  },
  {
   "cell_type": "markdown",
   "metadata": {},
   "source": [
    "Now we can open a terminal in the Jupyter interface to access the server over SSH, using the SSH command that is printed by the following cell:"
   ],
   "id": "56ecf13e-e92a-4b53-8978-4ec5e4350503"
  },
  {
   "cell_type": "code",
   "execution_count": null,
   "metadata": {},
   "outputs": [],
   "source": [
    "print(\"ssh cc@%s\" % public_ip)"
   ],
   "id": "7dcb3816-bc9c-4e95-a04b-2e4294356cfe"
  },
  {
   "cell_type": "markdown",
   "metadata": {},
   "source": [
    "## Install machine learning libraries on your server"
   ],
   "id": "9cce12a5-a675-4b36-9359-4e7dd6e918b4"
  },
  {
   "cell_type": "code",
   "execution_count": null,
   "metadata": {},
   "outputs": [],
   "source": [
    "from chi import ssh\n",
    "\n",
    "node = ssh.Remote(public_ip)"
   ],
   "id": "27d11072-ab77-4a1a-ab13-0704ecdb29f8"
  },
  {
   "cell_type": "code",
   "execution_count": null,
   "metadata": {},
   "outputs": [],
   "source": [
    "node.run('sudo apt update')\n",
    "node.run('sudo apt -y install python3-pip python3-dev')\n",
    "node.run('sudo pip3 install --upgrade pip')"
   ],
   "id": "569c744f-05ca-48e5-9b94-82bbd470abfd"
  },
  {
   "cell_type": "code",
   "execution_count": null,
   "metadata": {},
   "outputs": [],
   "source": [
    "node.run('wget https://developer.download.nvidia.com/compute/cuda/repos/ubuntu2004/x86_64/cuda-keyring_1.0-1_all.deb')\n",
    "node.run('sudo dpkg -i cuda-keyring_1.0-1_all.deb')\n",
    "node.run('sudo apt update')\n",
    "node.run('sudo apt -y install linux-headers-$(uname -r)')\n",
    "node.run('sudo apt-mark hold cuda-toolkit-12-config-common nvidia-driver-535') # don't let it install this cuda\n",
    "node.run('sudo apt -y install nvidia-driver-520') # this driver likes CUDA 11.8"
   ],
   "id": "88bbe828-ba75-487c-8d2d-d898ad7599be"
  },
  {
   "cell_type": "code",
   "execution_count": null,
   "metadata": {},
   "outputs": [],
   "source": [
    "try:\n",
    "    node.run('sudo reboot') # reboot and wait for it to come up\n",
    "except:\n",
    "    pass\n",
    "server.wait_for_tcp(public_ip, port=22)\n",
    "node = ssh.Remote(public_ip) "
   ],
   "id": "7255bdc3-2339-46ef-a43f-134f9efe184a"
  },
  {
   "cell_type": "code",
   "execution_count": null,
   "metadata": {},
   "outputs": [],
   "source": [
    "node.run('sudo apt -y install cuda-11-8 cuda-runtime-11-8 cuda-drivers=520.61.05-1')\n",
    "node.run('sudo apt -y install nvidia-gds-11-8') # install instructions say to do this separately!\n",
    "node.run('sudo apt -y install libcudnn8=8.9.3.28-1+cuda11.8 nvidia-cuda-toolkit') # make sure the get cuda-11-8 version"
   ],
   "id": "817f7aca-9898-46a9-b849-5e5b40463295"
  },
  {
   "cell_type": "code",
   "execution_count": null,
   "metadata": {},
   "outputs": [],
   "source": [
    "node.run(\"echo 'PATH=\\\"/usr/local/cuda-11.8/bin:/usr/local/sbin:/usr/local/bin:/usr/sbin:/usr/bin:/sbin:/bin:/snap/bin\\\"' | sudo tee /etc/environment\")"
   ],
   "id": "be74b42c-fec1-4a7c-ac19-76c9416165dd"
  },
  {
   "cell_type": "code",
   "execution_count": null,
   "metadata": {},
   "outputs": [],
   "source": [
    "try:\n",
    "    node.run('sudo reboot')\n",
    "except:\n",
    "    pass\n",
    "server.wait_for_tcp(public_ip, port=22)\n",
    "node = ssh.Remote(public_ip) # note: need a new SSH session to get new PATH\n",
    "node.run('nvidia-smi')\n",
    "node.run('nvcc --version')"
   ],
   "id": "ad96098c-19df-4617-b9ae-e88a4e637d1d"
  },
  {
   "cell_type": "code",
   "execution_count": null,
   "metadata": {},
   "outputs": [],
   "source": [
    "node.run('python3 -m pip install --user Cython==0.29.32')\n",
    "node.run('wget https://raw.githubusercontent.com/teaching-on-testbeds/colab/main/requirements_chameleon_dl.txt -O requirements_chameleon_dl.txt')\n",
    "node.run('python3 -m pip install --user -r requirements_chameleon_dl.txt --extra-index-url https://download.pytorch.org/whl/cu113 -f https://storage.googleapis.com/jax-releases/jax_cuda_releases.html')"
   ],
   "id": "3c6ea44c-5e59-4c11-bbd3-2098a6fb22b7"
  },
  {
   "cell_type": "markdown",
   "metadata": {},
   "source": [
    "Test your installation - make sure Tensorflow can see the GPU:"
   ],
   "id": "0d4103ef-694d-48fd-8f1a-0912600eb9d1"
  },
  {
   "cell_type": "code",
   "execution_count": null,
   "metadata": {},
   "outputs": [],
   "source": [
    "node.run('python3 -c \\'import tensorflow as tf; print(tf.config.list_physical_devices(\"GPU\"))\\'')\n",
    "# should say: PhysicalDevice(name='/physical_device:GPU:0', device_type='GPU')"
   ],
   "id": "9bd1787f-743d-467b-bce4-7137414ddfaa"
  },
  {
   "cell_type": "markdown",
   "metadata": {},
   "source": [
    "## Install additional libraries for fast inference on GPU\n",
    "\n",
    "To squeeze all the inference speed we can out of our GPU, we’ll also install TensorRT, a framework that optimizes inference speed on NVIDIA’s GPUs."
   ],
   "id": "f3155a09-3685-4cd5-9b9a-86f051ae4d0f"
  },
  {
   "cell_type": "code",
   "execution_count": null,
   "metadata": {},
   "outputs": [],
   "source": [
    "# hold libcudnn8 so we won't try to upgrade it to an incompatible version\n",
    "node.run('sudo apt-mark hold libcudnn8')\n",
    "# specify python-cuda to match installed cuda version\n",
    "node.run('python3 -m pip install --user cuda-python==11.8.0')\n",
    "# specify versions for ALL the tensorrt components\n",
    "node.run('sudo apt -y install tensorrt-dev=8.6.0.12-1+cuda11.8 libnvinfer-dev=8.6.0.12-1+cuda11.8 libnvinfer-lean-dev=8.6.0.12-1+cuda11.8 libnvinfer-headers-dev=8.6.0.12-1+cuda11.8 libnvinfer8=8.6.0.12-1+cuda11.8 libnvinfer-lean8=8.6.0.12-1+cuda11.8 libnvinfer-dispatch-dev=8.6.0.12-1+cuda11.8 libnvinfer-plugin-dev=8.6.0.12-1+cuda11.8 libnvinfer-vc-plugin-dev=8.6.0.12-1+cuda11.8 libnvparsers-dev=8.6.0.12-1+cuda11.8 libnvonnxparsers-dev=8.6.0.12-1+cuda11.8 libnvparsers8=8.6.0.12-1+cuda11.8 libnvinfer-vc-plugin8=8.6.0.12-1+cuda11.8 libnvinfer-dispatch8=8.6.0.12-1+cuda11.8 libnvinfer-headers-plugin-dev=8.6.0.12-1+cuda11.8 libnvinfer-plugin8=8.6.0.12-1+cuda11.8 libnvonnxparsers8=8.6.0.12-1+cuda11.8 libcudnn8-dev=8.9.3.28-1+cuda11.8')\n",
    "node.run('sudo apt -y install python3-libnvinfer-dev=8.6.0.12-1+cuda11.8 python3-libnvinfer=8.6.0.12-1+cuda11.8 python3-libnvinfer-lean=8.6.0.12-1+cuda11.8 python3-libnvinfer-dispatch=8.6.0.12-1+cuda11.8')\n",
    "# need to update tensorflow to one that is linked against tensorrt8\n",
    "node.run('python3 -m pip install --user tensorflow==2.12.0')"
   ],
   "id": "f3d054a7-d832-4451-a05a-84f30c8b77a8"
  },
  {
   "cell_type": "markdown",
   "metadata": {},
   "source": [
    "## Transfering files to the server\n",
    "\n",
    "Later in this notebook, we’ll run an image classification model - a model that accepts an image as input and “predicts” the name of the object in the image - on the server. To do this, we’ll need to upload some files to the server:\n",
    "\n",
    "-   a sample image\n",
    "-   Python code to load a model and make a prediction on the image\n",
    "\n",
    "Apart from the above, If you prefer, you can upload your own model and label file to the image_model folder if not by default a pre-trained image classification model mobilenetv2 will be used.\n",
    "\n",
    "These are all contained in the `image_model` directory. If you prefer, you can upload your own model and label file to the same directory, This is optional if no model and label file are provided the Python code will directly download a pre-trained model and the associated list of labels when we run it.\n",
    "\n",
    "Next, We can upload all the above files to the server using `scp`, and specify the source directory (in the Jupyter environment) and destination directory (on the server)."
   ],
   "id": "16cfe4dd-4c06-43d4-ba6d-1a54f2ba2666"
  },
  {
   "cell_type": "code",
   "execution_count": null,
   "metadata": {},
   "outputs": [],
   "source": [
    "!scp -r -i ~/work/.ssh/id_rsa -o StrictHostKeyChecking=no image_model cc@{public_ip}:~/"
   ],
   "id": "d825165e-2939-4258-adb5-d8dcfb7c8e29"
  },
  {
   "cell_type": "markdown",
   "metadata": {},
   "source": [
    "## Use a pre-trained image classification model to do inference\n",
    "\n",
    "Now, we can use the materials we uploaded to the server, and do inference - make a prediction - *on* the server.\n",
    "\n",
    "In this example, we will use a machine learning model that is specifically designed for fast inference using GPU acceleration. We will ask it to make a prediction for the following image:"
   ],
   "id": "c442db8a-783d-4de2-8898-0df185683bc1"
  },
  {
   "cell_type": "code",
   "execution_count": null,
   "metadata": {},
   "outputs": [],
   "source": [
    "from IPython.display import Image\n",
    "Image('image_model/parrot.jpg') "
   ],
   "id": "6ad65b67-2bf4-4217-bb12-1c7c9febb62a"
  },
  {
   "cell_type": "code",
   "execution_count": null,
   "metadata": {},
   "outputs": [],
   "source": [
    "node.run('python /home/cc/image_model/model.py --model_name keras_model.h5 --labelfile_name labels.txt --image_name parrot.jpg')"
   ],
   "id": "57281676-65e5-43fe-9d7c-26f21a221057"
  },
  {
   "cell_type": "markdown",
   "metadata": {},
   "source": [
    "Make a note of the time it took to generate the prediction - would this inference time be acceptable for all applications? Also make a note of the model’s three best “guesses” regarding the label of the image - is the prediction accurate?"
   ],
   "id": "d5222fee-1276-4122-94cd-e54e1a8861f9"
  },
  {
   "cell_type": "markdown",
   "metadata": {},
   "source": [
    "## Use a pre-trained image classification model to do inference with optimizations\n",
    "\n",
    "Now we willl repeat the image classification above, but with a version of the model that is compiled with TensorRT, for extra optimizations on NVIDIA GPUs."
   ],
   "id": "f2150491-874d-4963-9a4a-5d539f1ec80a"
  },
  {
   "cell_type": "markdown",
   "metadata": {},
   "source": [
    "First, we’ll convert the same model to a TensorRT equivalent - this will take a while."
   ],
   "id": "5793fa87-1a62-4877-978f-5c73144cfbd1"
  },
  {
   "cell_type": "code",
   "execution_count": null,
   "metadata": {},
   "outputs": [],
   "source": [
    "node.run('python /home/cc/image_model/model-convert.py --model_name keras_model.h5')"
   ],
   "id": "c33f3da3-0563-4544-91c5-6497f3844ef7"
  },
  {
   "cell_type": "markdown",
   "metadata": {},
   "source": [
    "Then, we can run the optimized version of the model -"
   ],
   "id": "019d78f4-d7e5-4530-80f0-99938725af27"
  },
  {
   "cell_type": "code",
   "execution_count": null,
   "metadata": {},
   "outputs": [],
   "source": [
    "node.run('python /home/cc/image_model/model-opt.py --model_name keras_model.h5 --labelfile_name labels.txt --image_name parrot.jpg')"
   ],
   "id": "465ec027-c1be-4a89-ad26-08dd13b45eb7"
  },
  {
   "cell_type": "markdown",
   "metadata": {},
   "source": [
    "Make a note of the time it took to generate the prediction - how does this compare to the previous one?"
   ],
   "id": "b41bda47-c6e0-4beb-a530-d6f2dbfb7807"
  },
  {
   "cell_type": "markdown",
   "metadata": {},
   "source": [
    "## Delete the server\n",
    "\n",
    "Finally, we should stop and delete our server so that others can create new servers using the same lease. To delete our server, we can run the following cell:"
   ],
   "id": "3ee2bbbf-655f-4f99-9359-25b289eb8e07"
  },
  {
   "cell_type": "code",
   "execution_count": null,
   "metadata": {},
   "outputs": [],
   "source": [
    "chi.server.delete_server(server_id)"
   ],
   "id": "3fef04b5-d9e7-4e76-9124-2504a3794037"
  },
  {
   "cell_type": "markdown",
   "metadata": {},
   "source": [
    "Also free up the IP that you we attached to the server, now that it is no longer in use:"
   ],
   "id": "1ba4bd4d-34df-40ac-94a9-cefd54e66b58"
  },
  {
   "cell_type": "code",
   "execution_count": null,
   "metadata": {},
   "outputs": [],
   "source": [
    "ip_details = chi.network.get_floating_ip(public_ip)\n",
    "chi.neutron().delete_floatingip(ip_details[\"id\"])"
   ],
   "id": "b4ac1123-91cd-4268-b194-5981c9d9a7ef"
  }
 ],
 "nbformat": 4,
 "nbformat_minor": 5,
 "metadata": {}
}
